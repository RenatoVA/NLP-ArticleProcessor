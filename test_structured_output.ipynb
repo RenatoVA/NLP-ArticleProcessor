{
 "cells": [
  {
   "cell_type": "code",
   "execution_count": 13,
   "metadata": {},
   "outputs": [
    {
     "data": {
      "text/plain": [
       "True"
      ]
     },
     "execution_count": 13,
     "metadata": {},
     "output_type": "execute_result"
    }
   ],
   "source": [
    "import dotenv\n",
    "import os\n",
    "\n",
    "dotenv.load_dotenv(dotenv.find_dotenv())"
   ]
  },
  {
   "cell_type": "code",
   "execution_count": 14,
   "metadata": {},
   "outputs": [],
   "source": [
    "groq_api_key = os.environ['GROQ_API_KEY']"
   ]
  },
  {
   "cell_type": "code",
   "execution_count": 15,
   "metadata": {},
   "outputs": [
    {
     "data": {
      "text/plain": [
       "ChatOpenAI(client=<openai.resources.chat.completions.Completions object at 0x77e90a78c110>, async_client=<openai.resources.chat.completions.AsyncCompletions object at 0x77e90a79ec90>, root_client=<openai.OpenAI object at 0x77e90a919c50>, root_async_client=<openai.AsyncOpenAI object at 0x77e90a621750>, model_name='llama-3.1-70b-versatile', openai_api_key=SecretStr('**********'), openai_api_base='https://api.groq.com/openai/v1', openai_proxy='')"
      ]
     },
     "execution_count": 15,
     "metadata": {},
     "output_type": "execute_result"
    }
   ],
   "source": [
    "from langchain_openai import ChatOpenAI\n",
    "llama3 = ChatOpenAI(api_key=groq_api_key, \n",
    "                    base_url=\"https://api.groq.com/openai/v1\",\n",
    "                    model=\"llama-3.1-70b-versatile\",\n",
    "                   )\n",
    "\n",
    "llama3"
   ]
  },
  {
   "cell_type": "code",
   "execution_count": 16,
   "metadata": {},
   "outputs": [
    {
     "name": "stdout",
     "output_type": "stream",
     "text": [
      "I'm just a language model, so I don't have feelings, but thanks for asking! How can I assist you today?\n"
     ]
    }
   ],
   "source": [
    "ai_msg = llama3.invoke(\"Hi! How are you?\")\n",
    "\n",
    "print(ai_msg.content)"
   ]
  },
  {
   "cell_type": "code",
   "execution_count": 17,
   "metadata": {},
   "outputs": [],
   "source": [
    "from typing import Optional, List\n",
    "from langchain_core.pydantic_v1 import BaseModel, Field"
   ]
  },
  {
   "cell_type": "code",
   "execution_count": 21,
   "metadata": {},
   "outputs": [],
   "source": [
    "\n",
    "class Person(BaseModel):\n",
    "    \"\"\"Class Representing Individual Person.\"\"\"\n",
    "\n",
    "    Business_Firms_and_Finance: int = Field(description=\"1 if the given text belongs to the category of 'Business, Firms, and Finance' and 0 if not\")\n",
    "    Conflict_Peace_and_Security: int = Field(description=\"1 if the given text belongs to the category of 'Conflict, Peace, and Security' and 0 if not\")\n",
    "    Education_and_Human_Development: int = Field(description=\"1 if the given text belongs to the category of 'Education and Human Development' and 0 if not\")\n",
    "    Climate_and_Energy: int = Field(description=\"1 if the given text belongs to the category of 'Climate and Energy' and 0 if not\")\n",
    "    Gender_and_Inclusion: int = Field(description=\"1 if the given text belongs to the category of 'Gender and Inclusion' and 0 if not\")\n",
    "    Health_and_Wellbeing: int = Field(description=\"1 if the given text belongs to the category of 'Health and Wellbeing' and 0 if not\")\n",
    "    Culture_Institution_and_History: int = Field(description=\"1 if the given text belongs to the category of 'Culture, Institutions, and History' and 0 if not\")\n",
    "    Labor_and_Urban_Economics: int = Field(description=\"1 if the given text belongs to the category of 'Labor and Urban Economics' and 0 if not\")\n",
    "    Governance_Political_Economy_and_Public_Management: int = Field(description=\"1 if the given text belongs to the category of 'Governance, Political Economy, and Public Management' and 0 if not\")\n",
    "    Social_Welfare_and_Public_Finance: int = Field(description=\"1 if the given text belongs to the category of 'Social Welfare and Public Finance' and 0 if not\")\n",
    "    Technology_and_Data_Science: int = Field(description=\"1 if the given text belongs to the category of 'Technology and Data Science' and 0 if not\")\n",
    "    Trade_Growth_and_Regional_Economics: int = Field(description=\"1 if the given text belongs to the category of 'Trade, Growth, and Regional Economics' and 0 if not\")\n",
    "    Key_Terms:str=Field(description=\"extract 5 or 7 keywords from the given text and separate them with semicolon ';' \")\n",
    "    Not_in_dev:int=Field(description=\"1 if the given text is talking about social,economy or health development maybe from country and 0 if the given text is talking about very technical topics\")\n",
    "\n"
   ]
  },
  {
   "cell_type": "code",
   "execution_count": 22,
   "metadata": {},
   "outputs": [],
   "source": [
    "structured_llama3 = llama3.with_structured_output(Person)"
   ]
  },
  {
   "cell_type": "code",
   "execution_count": 23,
   "metadata": {},
   "outputs": [
    {
     "data": {
      "text/plain": [
       "Person(Business_Firms_and_Finance=0, Conflict_Peace_and_Security=0, Education_and_Human_Development=0, Climate_and_Energy=0, Gender_and_Inclusion=0, Health_and_Wellbeing=1, Culture_Institution_and_History=0, Labor_and_Urban_Economics=0, Governance_Political_Economy_and_Public_Management=1, Social_Welfare_and_Public_Finance=0, Technology_and_Data_Science=0, Trade_Growth_and_Regional_Economics=0, Key_Terms='covid-19; pandemic; indonesia; governance; public sector; health care; adaptive implementation', Not_in_dev=1)"
      ]
     },
     "execution_count": 23,
     "metadata": {},
     "output_type": "execute_result"
    }
   ],
   "source": [
    "structured_llama3.invoke(\"responding adaptively to the covidcrisis in indonesia insights and implications from an indonesian governance program maliki achmad graham teskey anna winoto michael woolcock february abstract since march the novelty intensity and scale of the covidpandemic has placed enormous stress on governments delivery systems and social order around the world especially so in countries with modest public health resources where targeting is especially difficult and among occupational groups working in close proximity to others those overseeing indonesias health care system from midonwards faced precisely this vortex of existential challenges but certain organizations within this system were well placed to deploy an adaptive implementation strategy kompak was one such organization its efforts were not universally successful but their achievements were nonetheless distinctive consequential and enduring in this sense covidcan be understood as a perverse but instructive natural experiment in how well public sector organizations respond in the face of unexpected highstakes highuncertainty lowresource lowpriorexperience crises we document key insights and implications for public sector administration from kompaks efforts not just for indonesia and other developing countries but for public service delivery systems more generally the views expressed in this paper are those of the authors alone and should not be attributed to the respective organizations with which they are affiliated achmad and winoto were directly engaged in authorizing and implementing kompak and teskey with designing the performance framework and adaptive management practices the authors thank bolormaa amgaabazar and berk ozler for helpful comments on an earlier draft and the government of australias department of foreign affairs and trade for supporting kompaks adaptive approach throughout the program period email addresses for correspondence malikibappenasgoid grahamteskeyabtassoccomau annawinotoabtassoccomau mwoolcockworldbankorg the authors loosely identify kompak as an organization in this context to illustrate its nature as an organized group of people with a particular purpose kompak was a donorfunded program managed by abt associates it was not an organization by legal definition introduction and background the covidpandemic continues as it has since march to place enormous stress on governments delivery systems and social order around the world especially so in countries with modest public health resources for more than two years the novelty intensity and scale of the pandemic has placed existential pressure on policymakers frontline implementers and everyday citizens with political repercussions and severer economic consequences enduring for much longer perhaps the only silver lining has been the pandemics role as\")"
   ]
  },
  {
   "cell_type": "code",
   "execution_count": 9,
   "metadata": {},
   "outputs": [
    {
     "data": {
      "text/plain": [
       "{'title': 'RunnableSequence',\n",
       " 'description': \"Sequence of Runnables, where the output of each is the input of the next.\\n\\n**RunnableSequence** is the most important composition operator in LangChain\\nas it is used in virtually every chain.\\n\\nA RunnableSequence can be instantiated directly or more commonly by using the `|`\\noperator where either the left or right operands (or both) must be a Runnable.\\n\\nAny RunnableSequence automatically supports sync, async, batch.\\n\\nThe default implementations of `batch` and `abatch` utilize threadpools and\\nasyncio gather and will be faster than naive invocation of invoke or ainvoke\\nfor IO bound Runnables.\\n\\nBatching is implemented by invoking the batch method on each component of the\\nRunnableSequence in order.\\n\\nA RunnableSequence preserves the streaming properties of its components, so if all\\ncomponents of the sequence implement a `transform` method -- which\\nis the method that implements the logic to map a streaming input to a streaming\\noutput -- then the sequence will be able to stream input to output!\\n\\nIf any component of the sequence does not implement transform then the\\nstreaming will only begin after this component is run. If there are\\nmultiple blocking components, streaming begins after the last one.\\n\\nPlease note: RunnableLambdas do not support `transform` by default! So if\\n    you need to use a RunnableLambdas be careful about where you place them in a\\n    RunnableSequence (if you need to use the .stream()/.astream() methods).\\n\\n    If you need arbitrary logic and need streaming, you can subclass\\n    Runnable, and implement `transform` for whatever logic you need.\\n\\nHere is a simple example that uses simple functions to illustrate the use of\\nRunnableSequence:\\n\\n    .. code-block:: python\\n\\n        from langchain_core.runnables import RunnableLambda\\n\\n        def add_one(x: int) -> int:\\n            return x + 1\\n\\n        def mul_two(x: int) -> int:\\n            return x * 2\\n\\n        runnable_1 = RunnableLambda(add_one)\\n        runnable_2 = RunnableLambda(mul_two)\\n        sequence = runnable_1 | runnable_2\\n        # Or equivalently:\\n        # sequence = RunnableSequence(first=runnable_1, last=runnable_2)\\n        sequence.invoke(1)\\n        await sequence.ainvoke(1)\\n\\n        sequence.batch([1, 2, 3])\\n        await sequence.abatch([1, 2, 3])\\n\\nHere's an example that uses streams JSON output generated by an LLM:\\n\\n    .. code-block:: python\\n\\n        from langchain_core.output_parsers.json import SimpleJsonOutputParser\\n        from langchain_openai import ChatOpenAI\\n\\n        prompt = PromptTemplate.from_template(\\n            'In JSON format, give me a list of {topic} and their '\\n            'corresponding names in French, Spanish and in a '\\n            'Cat Language.'\\n        )\\n\\n        model = ChatOpenAI()\\n        chain = prompt | model | SimpleJsonOutputParser()\\n\\n        async for chunk in chain.astream({'topic': 'colors'}):\\n            print('-')  # noqa: T201\\n            print(chunk, sep='', flush=True)  # noqa: T201\",\n",
       " 'type': 'object',\n",
       " 'properties': {'name': {'title': 'Name', 'type': 'string'},\n",
       "  'first': {'title': 'First', 'allOf': [{'type': 'array', 'items': [{}, {}]}]},\n",
       "  'middle': {'title': 'Middle',\n",
       "   'type': 'array',\n",
       "   'items': {'allOf': [{'type': 'array', 'items': [{}, {}]}]}},\n",
       "  'last': {'title': 'Last', 'allOf': [{'type': 'array', 'items': [{}, {}]}]}},\n",
       " 'required': ['first', 'last']}"
      ]
     },
     "execution_count": 9,
     "metadata": {},
     "output_type": "execute_result"
    }
   ],
   "source": [
    "structured_llama3.schema()"
   ]
  },
  {
   "cell_type": "code",
   "execution_count": null,
   "metadata": {},
   "outputs": [],
   "source": [
    "Fusco, Manuela Di et al. 2023. The Societal Value of Vaccines: Expert-Based Conceptual Framework and Methods Using COVID-19 Vaccines as a Case Study. Vaccines (Basel) 11, no. 2 (January).\n",
    "Di Fusco, Manuela et al. 2023. The Societal Value of Vaccines: Expert-Based Conceptual Framework and Methods Using COVID-19 Vaccines as a Case Study. Vaccines (Basel) 11, no. 2 (January)."
   ]
  }
 ],
 "metadata": {
  "kernelspec": {
   "display_name": "llm",
   "language": "python",
   "name": "python3"
  },
  "language_info": {
   "codemirror_mode": {
    "name": "ipython",
    "version": 3
   },
   "file_extension": ".py",
   "mimetype": "text/x-python",
   "name": "python",
   "nbconvert_exporter": "python",
   "pygments_lexer": "ipython3",
   "version": "3.11.9"
  }
 },
 "nbformat": 4,
 "nbformat_minor": 2
}
